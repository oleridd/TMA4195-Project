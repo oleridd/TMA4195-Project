{
 "cells": [
  {
   "cell_type": "code",
   "execution_count": null,
   "metadata": {},
   "outputs": [],
   "source": []
  }
 ],
 "metadata": {
  "kernelspec": {
   "display_name": "Python 3.10.8 ('sci-env')",
   "language": "python",
   "name": "python3"
  },
  "language_info": {
   "name": "python",
   "version": "3.10.8"
  },
  "orig_nbformat": 4,
  "vscode": {
   "interpreter": {
    "hash": "1b5ba177eee08454681851dd94dd885068d4ccee9f4d15c96c7648e3567d8cc3"
   }
  }
 },
 "nbformat": 4,
 "nbformat_minor": 2
}
