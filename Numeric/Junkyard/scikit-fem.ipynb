{
 "cells": [
  {
   "cell_type": "code",
   "execution_count": 1,
   "metadata": {},
   "outputs": [],
   "source": [
    "import numpy as np\n",
    "import skfem as fem\n",
    "from skfem.helpers import dot, grad"
   ]
  },
  {
   "cell_type": "code",
   "execution_count": 2,
   "metadata": {},
   "outputs": [],
   "source": [
    "@fem.BilinearForm\n",
    "def a(v, w):\n",
    "    return dot(grad(v), grad(w))"
   ]
  },
  {
   "cell_type": "code",
   "execution_count": 3,
   "metadata": {},
   "outputs": [],
   "source": [
    "@fem.LinearForm\n",
    "def b(v, w):\n",
    "    x, y = w.x\n",
    "    f = 0*(x + y)\n",
    "    return f * v"
   ]
  },
  {
   "cell_type": "code",
   "execution_count": 4,
   "metadata": {},
   "outputs": [],
   "source": [
    "mesh = fem.MeshTri().refined(3)"
   ]
  }
 ],
 "metadata": {
  "kernelspec": {
   "display_name": "Python 3.10.6 ('sci-env')",
   "language": "python",
   "name": "python3"
  },
  "language_info": {
   "codemirror_mode": {
    "name": "ipython",
    "version": 3
   },
   "file_extension": ".py",
   "mimetype": "text/x-python",
   "name": "python",
   "nbconvert_exporter": "python",
   "pygments_lexer": "ipython3",
   "version": "3.10.6"
  },
  "orig_nbformat": 4,
  "vscode": {
   "interpreter": {
    "hash": "1b5ba177eee08454681851dd94dd885068d4ccee9f4d15c96c7648e3567d8cc3"
   }
  }
 },
 "nbformat": 4,
 "nbformat_minor": 2
}
