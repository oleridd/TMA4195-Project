{
 "cells": [
  {
   "cell_type": "code",
   "execution_count": 1,
   "id": "378caf8e",
   "metadata": {},
   "outputs": [],
   "source": [
    "import numpy as np\n",
    "import matplotlib.pyplot as plt\n",
    "%matplotlib inline"
   ]
  },
  {
   "cell_type": "code",
   "execution_count": 2,
   "id": "864e2639",
   "metadata": {},
   "outputs": [],
   "source": [
    "a = 2.8e-4\n",
    "b = 5e-3\n",
    "tau = .1\n",
    "k = -.005"
   ]
  },
  {
   "cell_type": "code",
   "execution_count": 3,
   "id": "185a0904",
   "metadata": {},
   "outputs": [],
   "source": [
    "size = 100  # size of the 2D grid\n",
    "dx = 2. / size  # space step\n",
    "T = 9.0  # total time\n",
    "dt = .001  # time step\n",
    "n = int(T / dt)  # number of iterations"
   ]
  },
  {
   "cell_type": "code",
   "execution_count": 4,
   "id": "597f667f",
   "metadata": {},
   "outputs": [],
   "source": [
    "U = np.random.rand(size, size)\n",
    "V = np.random.rand(size, size)"
   ]
  },
  {
   "cell_type": "code",
   "execution_count": 5,
   "id": "729659e5",
   "metadata": {},
   "outputs": [],
   "source": [
    "def laplacian(Z):\n",
    "    Ztop = Z[0:-2, 1:-1]\n",
    "    Zleft = Z[1:-1, 0:-2]\n",
    "    Zbottom = Z[2:, 1:-1]\n",
    "    Zright = Z[1:-1, 2:]\n",
    "    Zcenter = Z[1:-1, 1:-1]\n",
    "    return (Ztop + Zleft + Zbottom + Zright -\n",
    "            4 * Zcenter) / dx**2"
   ]
  },
  {
   "cell_type": "code",
   "execution_count": 6,
   "id": "55e28bca",
   "metadata": {},
   "outputs": [],
   "source": [
    "def show_patterns(U, ax=None):\n",
    "    ax.imshow(U, cmap=plt.cm.copper,\n",
    "              interpolation='bilinear',\n",
    "              extent=[-1, 1, -1, 1])\n",
    "    ax.set_axis_off()"
   ]
  },
  {
   "cell_type": "code",
   "execution_count": 7,
   "id": "dd43eb22",
   "metadata": {},
   "outputs": [
    {
     "name": "stdout",
     "output_type": "stream",
     "text": [
      "[[-0.89835761 -0.89835761 -0.85471949 ... -0.80866919 -0.88358308\n",
      "  -0.88358308]\n",
      " [-0.89835761 -0.89835761 -0.85471949 ... -0.80866919 -0.88358308\n",
      "  -0.88358308]\n",
      " [-0.88272712 -0.88272712 -0.82002882 ... -0.72758536 -0.8368742\n",
      "  -0.8368742 ]\n",
      " ...\n",
      " [-0.82326241 -0.82326241 -0.73114712 ...  0.65973344  0.6661095\n",
      "   0.6661095 ]\n",
      " [-0.89756148 -0.89756148 -0.84302839 ...  0.67447719  0.66924419\n",
      "   0.66924419]\n",
      " [-0.89756148 -0.89756148 -0.84302839 ...  0.67447719  0.66924419\n",
      "   0.66924419]]\n",
      "[[-0.13798738 -0.13798738 -0.10043826 ... -0.07459063 -0.10312239\n",
      "  -0.10312239]\n",
      " [-0.13798738 -0.13798738 -0.10043826 ... -0.07459063 -0.10312239\n",
      "  -0.10312239]\n",
      " [-0.11485587 -0.11485587 -0.07688395 ... -0.04008105 -0.06943647\n",
      "  -0.06943647]\n",
      " ...\n",
      " [-0.05300169 -0.05300169 -0.02588236 ...  0.3008362   0.31913644\n",
      "   0.31913644]\n",
      " [-0.08898234 -0.08898234 -0.06034534 ...  0.31585496  0.33100059\n",
      "   0.33100059]\n",
      " [-0.08898234 -0.08898234 -0.06034534 ...  0.31585496  0.33100059\n",
      "   0.33100059]]\n"
     ]
    },
    {
     "data": {
      "image/png": "[encoded data removed]",
      "text/plain": [
       "<Figure size 576x576 with 9 Axes>"
      ]
     },
     "metadata": {
      "needs_background": "light"
     },
     "output_type": "display_data"
    }
   ],
   "source": [
    "fig, axes = plt.subplots(3, 3, figsize=(8, 8))\n",
    "step_plot = n // 9\n",
    "# We simulate the PDE with the finite difference\n",
    "# method.\n",
    "for i in range(n):\n",
    "    # We compute the Laplacian of u and v.\n",
    "    deltaU = laplacian(U)\n",
    "    deltaV = laplacian(V)\n",
    "    # We take the values of u and v inside the grid.\n",
    "    Uc = U[1:-1, 1:-1]\n",
    "    Vc = V[1:-1, 1:-1]\n",
    "    # We update the variables.\n",
    "    U[1:-1, 1:-1], V[1:-1, 1:-1] = \\\n",
    "        Uc + dt * (a * deltaU + Uc - Uc**3 - Vc + k),\\\n",
    "        Vc + dt * (b * deltaV + Uc - Vc) / tau\n",
    "    # Neumann conditions: derivatives at the edges\n",
    "    # are null.\n",
    "    for Z in (U, V):\n",
    "        Z[0, :] = Z[1, :]\n",
    "        Z[-1, :] = Z[-2, :]\n",
    "        Z[:, 0] = Z[:, 1]\n",
    "        Z[:, -1] = Z[:, -2]\n",
    "\n",
    "    # We plot the state of the system at\n",
    "    # 9 different times.\n",
    "   # if i % step_plot == 0 and i < 9 * step_plot:\n",
    "        #ax = axes.flat[i // step_plot]\n",
    "        #show_patterns(U, ax=ax)\n",
    "        #ax.set_title(f'$t={i * dt:.2f}$')\n",
    "print(U)\n",
    "print(V)"
   ]
  },
  {
   "cell_type": "markdown",
   "id": "86fd9926",
   "metadata": {},
   "source": [
    "∂u∂tτ∂v∂t=aΔu+u−u3−v+k=bΔv+u−v"
   ]
  },
  {
   "cell_type": "code",
   "execution_count": null,
   "id": "06d6950a",
   "metadata": {},
   "outputs": [],
   "source": []
  },
  {
   "cell_type": "code",
   "execution_count": 8,
   "id": "bceb14cd",
   "metadata": {},
   "outputs": [
    {
     "ename": "SyntaxError",
     "evalue": "invalid character in identifier (<ipython-input-8-9297546b17ea>, line 1)",
     "output_type": "error",
     "traceback": [
      "\u001b[0;36m  File \u001b[0;32m\"<ipython-input-8-9297546b17ea>\"\u001b[0;36m, line \u001b[0;32m1\u001b[0m\n\u001b[0;31m    ∂u∂tτ∂v∂t=aΔu+u−u3−v+k=bΔv+u−v\u001b[0m\n\u001b[0m            ^\u001b[0m\n\u001b[0;31mSyntaxError\u001b[0m\u001b[0;31m:\u001b[0m invalid character in identifier\n"
     ]
    }
   ],
   "source": [
    "∂u∂tτ∂v∂t=aΔu+u−u3−v+k=bΔv+u−v"
   ]
  }
 ],
 "metadata": {
  "kernelspec": {
   "display_name": "Python 3.7.4 ('base')",
   "language": "python",
   "name": "python3"
  },
  "language_info": {
   "codemirror_mode": {
    "name": "ipython",
    "version": 3
   },
   "file_extension": ".py",
   "mimetype": "text/x-python",
   "name": "python",
   "nbconvert_exporter": "python",
   "pygments_lexer": "ipython3",
   "version": "3.7.4"
  },
  "vscode": {
   "interpreter": {
    "hash": "40d3a090f54c6569ab1632332b64b2c03c39dcf918b08424e98f38b5ae0af88f"
   }
  }
 },
 "nbformat": 4,
 "nbformat_minor": 5
}
