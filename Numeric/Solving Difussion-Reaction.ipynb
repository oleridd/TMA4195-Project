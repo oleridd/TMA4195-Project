{
 "cells": [
  {
   "cell_type": "code",
   "execution_count": 2,
   "id": "378caf8e",
   "metadata": {},
   "outputs": [],
   "source": [
    "import numpy as np\n",
    "import matplotlib.pyplot as plt\n",
    "%matplotlib inline"
   ]
  },
  {
   "cell_type": "code",
   "execution_count": 3,
   "id": "864e2639",
   "metadata": {},
   "outputs": [],
   "source": [
    "a = 2.8e-4\n",
    "b = 5e-3\n",
    "tau = .1\n",
    "k = -.005"
   ]
  },
  {
   "cell_type": "code",
   "execution_count": 4,
   "id": "185a0904",
   "metadata": {},
   "outputs": [],
   "source": [
    "size = 100  # size of the 2D grid\n",
    "dx = 2. / size  # space step\n",
    "T = 9.0  # total time\n",
    "dt = .001  # time step\n",
    "n = int(T / dt)  # number of iterations"
   ]
  },
  {
   "cell_type": "code",
   "execution_count": 5,
   "id": "597f667f",
   "metadata": {},
   "outputs": [],
   "source": [
    "U = np.random.rand(size, size)\n",
    "V = np.random.rand(size, size)"
   ]
  },
  {
   "cell_type": "code",
   "execution_count": 6,
   "id": "729659e5",
   "metadata": {},
   "outputs": [],
   "source": [
    "def laplacian(Z):\n",
    "    Ztop = Z[0:-2, 1:-1]\n",
    "    Zleft = Z[1:-1, 0:-2]\n",
    "    Zbottom = Z[2:, 1:-1]\n",
    "    Zright = Z[1:-1, 2:]\n",
    "    Zcenter = Z[1:-1, 1:-1]\n",
    "    return (Ztop + Zleft + Zbottom + Zright -\n",
    "            4 * Zcenter) / dx**2"
   ]
  },
  {
   "cell_type": "code",
   "execution_count": 7,
   "id": "55e28bca",
   "metadata": {},
   "outputs": [],
   "source": [
    "def show_patterns(U, ax=None):\n",
    "    ax.imshow(U, cmap=plt.cm.copper,\n",
    "              interpolation='bilinear',\n",
    "              extent=[-1, 1, -1, 1])\n",
    "    ax.set_axis_off()"
   ]
  },
  {
   "cell_type": "code",
   "execution_count": 12,
   "id": "dd43eb22",
   "metadata": {},
   "outputs": [
    {
     "name": "stdout",
     "output_type": "stream",
     "text": [
      "[[-0.7094013  -0.7094013  -0.71414837 ...  0.80566929  0.79613823\n",
      "   0.79613823]\n",
      " [-0.7094013  -0.7094013  -0.71414837 ...  0.80566929  0.79613823\n",
      "   0.79613823]\n",
      " [-0.71674127 -0.71674127 -0.71138575 ...  0.71519441  0.6893923\n",
      "   0.6893923 ]\n",
      " ...\n",
      " [-0.6046835  -0.6046835  -0.62510817 ... -0.79384449 -0.79870819\n",
      "  -0.79870819]\n",
      " [-0.78326596 -0.78326596 -0.78896535 ... -0.78807639 -0.79279604\n",
      "  -0.79279604]\n",
      " [-0.78326596 -0.78326596 -0.78896535 ... -0.78807639 -0.79279604\n",
      "  -0.79279604]]\n",
      "[[-0.3661625  -0.3661625  -0.35206898 ...  0.21442736  0.21699412\n",
      "   0.21699412]\n",
      " [-0.3661625  -0.3661625  -0.35206898 ...  0.21442736  0.21699412\n",
      "   0.21699412]\n",
      " [-0.35279882 -0.35279882 -0.33506274 ...  0.17419843  0.17321638\n",
      "   0.17321638]\n",
      " ...\n",
      " [-0.13460771 -0.13460771 -0.13942474 ... -0.26145458 -0.29505134\n",
      "  -0.29505134]\n",
      " [-0.18649952 -0.18649952 -0.19065142 ... -0.26687972 -0.30064986\n",
      "  -0.30064986]\n",
      " [-0.18649952 -0.18649952 -0.19065142 ... -0.26687972 -0.30064986\n",
      "  -0.30064986]]\n"
     ]
    },
    {
     "data": {
      "image/png": "[encoded data removed]",
      "text/plain": [
       "<Figure size 576x576 with 9 Axes>"
      ]
     },
     "metadata": {
      "needs_background": "light"
     },
     "output_type": "display_data"
    }
   ],
   "source": [
    "fig, axes = plt.subplots(3, 3, figsize=(8, 8))\n",
    "step_plot = n // 9\n",
    "# We simulate the PDE with the finite difference\n",
    "# method.\n",
    "for i in range(n):\n",
    "    # We compute the Laplacian of u and v.\n",
    "    deltaU = laplacian(U)\n",
    "    deltaV = laplacian(V)\n",
    "    # We take the values of u and v inside the grid.\n",
    "    Uc = U[1:-1, 1:-1]\n",
    "    Vc = V[1:-1, 1:-1]\n",
    "    # We update the variables.\n",
    "    U[1:-1, 1:-1], V[1:-1, 1:-1] = \\\n",
    "        Uc + dt * (a * deltaU + Uc - Uc**3 - Vc + k),\\\n",
    "        Vc + dt * (b * deltaV + Uc - Vc) / tau\n",
    "    # Neumann conditions: derivatives at the edges\n",
    "    # are null.\n",
    "    for Z in (U, V):\n",
    "        Z[0, :] = Z[1, :]\n",
    "        Z[-1, :] = Z[-2, :]\n",
    "        Z[:, 0] = Z[:, 1]\n",
    "        Z[:, -1] = Z[:, -2]\n",
    "\n",
    "    # We plot the state of the system at\n",
    "    # 9 different times.\n",
    "   # if i % step_plot == 0 and i < 9 * step_plot:\n",
    "        #ax = axes.flat[i // step_plot]\n",
    "        #show_patterns(U, ax=ax)\n",
    "        #ax.set_title(f'$t={i * dt:.2f}$')\n",
    "print(U)\n",
    "print(V)"
   ]
  },
  {
   "cell_type": "markdown",
   "id": "86fd9926",
   "metadata": {},
   "source": [
    "∂u∂tτ∂v∂t=aΔu+u−u3−v+k=bΔv+u−v"
   ]
  },
  {
   "cell_type": "code",
   "execution_count": 11,
   "id": "06d6950a",
   "metadata": {},
   "outputs": [
    {
     "ename": "SyntaxError",
     "evalue": "invalid character '∂' (U+2202) (Temp/ipykernel_1940/2310617753.py, line 1)",
     "output_type": "error",
     "traceback": [
      "\u001b[1;36m  File \u001b[1;32m\"C:\\Users\\47941\\AppData\\Local\\Temp/ipykernel_1940/2310617753.py\"\u001b[1;36m, line \u001b[1;32m1\u001b[0m\n\u001b[1;33m    ∂u∂tτ∂v∂t=aΔu+u−u3−v+k=bΔv+u−v\u001b[0m\n\u001b[1;37m    ^\u001b[0m\n\u001b[1;31mSyntaxError\u001b[0m\u001b[1;31m:\u001b[0m invalid character '∂' (U+2202)\n"
     ]
    }
   ],
   "source": []
  },
  {
   "cell_type": "code",
   "execution_count": null,
   "id": "bceb14cd",
   "metadata": {},
   "outputs": [],
   "source": [
    "∂u∂tτ∂v∂t=aΔu+u−u3−v+k=bΔv+u−v"
   ]
  }
 ],
 "metadata": {
  "kernelspec": {
   "display_name": "Python 3.10.8 ('sci-env')",
   "language": "python",
   "name": "python3"
  },
  "language_info": {
   "codemirror_mode": {
    "name": "ipython",
    "version": 3
   },
   "file_extension": ".py",
   "mimetype": "text/x-python",
   "name": "python",
   "nbconvert_exporter": "python",
   "pygments_lexer": "ipython3",
   "version": "3.10.8"
  },
  "vscode": {
   "interpreter": {
    "hash": "1b5ba177eee08454681851dd94dd885068d4ccee9f4d15c96c7648e3567d8cc3"
   }
  }
 },
 "nbformat": 4,
 "nbformat_minor": 5
}
